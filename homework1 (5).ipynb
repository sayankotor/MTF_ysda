{
 "cells": [
  {
   "cell_type": "code",
   "execution_count": 3,
   "metadata": {},
   "outputs": [],
   "source": [
    "from tensorly.base import unfold, fold\n",
    "import numpy as np\n",
    "import tensorly.backend as T"
   ]
  },
  {
   "cell_type": "markdown",
   "metadata": {},
   "source": [
    "## Readme\n",
    "\n",
    "I can't intergate matlab to jupyter so i counted task 1 and task 7 in matlab separately (i added the *.m file to Canvas). There is only description to 7 number."
   ]
  },
  {
   "cell_type": "markdown",
   "metadata": {},
   "source": [
    "## 1.\n",
    "\n",
    "Computed in __first_task.m__"
   ]
  },
  {
   "cell_type": "markdown",
   "metadata": {},
   "source": [
    "## 2.\n",
    "\n",
    "$\\circ$  - outer product\n",
    "\n",
    "$ A = a \\circ  b = \\textbf{a} \\cdot \\textbf{b}^T $\n",
    "\n",
    "$A \\otimes  B = vec(\\textbf{a} \\cdot \\textbf{b}^T) = vec (a \\circ b)$\n",
    "\n",
    "It means that vector that we have - a vectorized matrix, which has rank 1, because it is an outer product.\n",
    "We should restore all possible matrix from vector (in our case it is 2*3 and 3*2 matrix size) and look at its' rank.\n",
    "If any rank equals 1, the initial vector is a Kronecker product."
   ]
  },
  {
   "cell_type": "code",
   "execution_count": 1,
   "metadata": {},
   "outputs": [],
   "source": [
    "vector = [-0.0158, -0.9533, -0.3560, 0.0155, 0.9336, 0.3486]"
   ]
  },
  {
   "cell_type": "code",
   "execution_count": 3,
   "metadata": {},
   "outputs": [
    {
     "name": "stdout",
     "output_type": "stream",
     "text": [
      "2\n"
     ]
    },
    {
     "name": "stderr",
     "output_type": "stream",
     "text": [
      "/opt/.pyenv/versions/3.7.4/lib/python3.7/site-packages/ipykernel_launcher.py:3: VisibleDeprecationWarning: `rank` is deprecated; use the `ndim` attribute or function instead. To find the rank of a matrix see `numpy.linalg.matrix_rank`.\n",
      "  This is separate from the ipykernel package so we can avoid doing imports until\n"
     ]
    }
   ],
   "source": [
    "from numpy import matrix, rank\n",
    "A = matrix([[-0.0158, -0.9533],[-0.3560, 0.0155],[0.9336, 0.3486]])\n",
    "print (rank(A))"
   ]
  },
  {
   "cell_type": "code",
   "execution_count": 4,
   "metadata": {},
   "outputs": [
    {
     "name": "stdout",
     "output_type": "stream",
     "text": [
      "2\n"
     ]
    },
    {
     "name": "stderr",
     "output_type": "stream",
     "text": [
      "/opt/.pyenv/versions/3.7.4/lib/python3.7/site-packages/ipykernel_launcher.py:2: VisibleDeprecationWarning: `rank` is deprecated; use the `ndim` attribute or function instead. To find the rank of a matrix see `numpy.linalg.matrix_rank`.\n",
      "  \n"
     ]
    }
   ],
   "source": [
    "A = matrix([[-0.0158, -0.9533,-0.3560], [0.0155, 0.9336, 0.3486]])\n",
    "print (rank(A))"
   ]
  },
  {
   "cell_type": "markdown",
   "metadata": {},
   "source": [
    "check we can't tangle the row-column:"
   ]
  },
  {
   "cell_type": "code",
   "execution_count": 6,
   "metadata": {},
   "outputs": [
    {
     "name": "stdout",
     "output_type": "stream",
     "text": [
      "2\n"
     ]
    },
    {
     "name": "stderr",
     "output_type": "stream",
     "text": [
      "/opt/.pyenv/versions/3.7.4/lib/python3.7/site-packages/ipykernel_launcher.py:2: VisibleDeprecationWarning: `rank` is deprecated; use the `ndim` attribute or function instead. To find the rank of a matrix see `numpy.linalg.matrix_rank`.\n",
      "  \n"
     ]
    }
   ],
   "source": [
    "A = matrix([[-0.0158, -0.3560, 0.9336], [-0.9533, 0.0155, 0.3486]])\n",
    "print (rank(A))"
   ]
  },
  {
   "cell_type": "code",
   "execution_count": 7,
   "metadata": {},
   "outputs": [
    {
     "name": "stdout",
     "output_type": "stream",
     "text": [
      "2\n"
     ]
    },
    {
     "name": "stderr",
     "output_type": "stream",
     "text": [
      "/opt/.pyenv/versions/3.7.4/lib/python3.7/site-packages/ipykernel_launcher.py:2: VisibleDeprecationWarning: `rank` is deprecated; use the `ndim` attribute or function instead. To find the rank of a matrix see `numpy.linalg.matrix_rank`.\n",
      "  \n"
     ]
    }
   ],
   "source": [
    "A = matrix([[-0.0158, -0.0155], [-0.9533, 0.9336],[-0.3560, 0.3486]])\n",
    "print (rank(A))"
   ]
  },
  {
   "cell_type": "markdown",
   "metadata": {},
   "source": [
    "It seems no..."
   ]
  },
  {
   "cell_type": "markdown",
   "metadata": {},
   "source": [
    "## 3.\n",
    "\n",
    "If matrix is a Kroneker product of matrices,\n",
    "\n",
    "$ A = \\textbf{b}^T \\cdot \\textbf{c}$\n",
    "\n",
    "It looks like one comppnent of SVD decomposition:\n",
    "\n",
    "$ A = \\sum_i \\sigma_i {u_i}^T v_i $\n",
    "\n",
    "So, If it is possible to approximate matrix to 1-rank matrices SVD, it is a Kronecker product of matrices."
   ]
  },
  {
   "cell_type": "code",
   "execution_count": 16,
   "metadata": {},
   "outputs": [],
   "source": [
    "from scipy import linalg\n",
    "\n",
    "a = matrix([[0.1377, -0.6071, -0.3400, -0.0335, -0.1475, 0.0826],[-0.2289, 0.0524, -0.4639, 0.0556, -0.0127, 0.1127],[-0.3498, -1.5757, -0.7783, 0.0850, 0.3827, 0.1890], [-0.2990, 1.3181, 0.7381, 0.0436, -0.1923, -0.1077], [0.4969, -0.1139, 1.0072, -0.0725, 0.0166, -0.1470],[0.7595, 3.4209, 1.6898, -0.1108, -0.4992, -0.2466]])\n",
    "\n",
    "U, s, Vh = linalg.svd(a)"
   ]
  },
  {
   "cell_type": "code",
   "execution_count": 17,
   "metadata": {},
   "outputs": [
    {
     "data": {
      "text/plain": [
       "array([4.64539687, 1.18056707, 0.59816744, 0.24738481, 0.0871925 ,\n",
       "       0.00813466])"
      ]
     },
     "execution_count": 17,
     "metadata": {},
     "output_type": "execute_result"
    }
   ],
   "source": [
    "s"
   ]
  },
  {
   "cell_type": "code",
   "execution_count": 18,
   "metadata": {},
   "outputs": [
    {
     "data": {
      "text/plain": [
       "(array([[-0.13845822],\n",
       "        [-0.04563238],\n",
       "        [-0.39506433],\n",
       "        [ 0.31411823],\n",
       "        [ 0.09751928],\n",
       "        [ 0.84527565]]),\n",
       " array([4.64539687]),\n",
       " array([[ 0.15630438,  0.86078866,  0.45941007, -0.02551136, -0.13151443,\n",
       "         -0.07488217]]))"
      ]
     },
     "execution_count": 18,
     "metadata": {},
     "output_type": "execute_result"
    }
   ],
   "source": [
    "from sklearn.utils.extmath import randomized_svd\n",
    "randomized_svd(a, 1)"
   ]
  },
  {
   "cell_type": "markdown",
   "metadata": {},
   "source": [
    "Possible, it is."
   ]
  },
  {
   "cell_type": "markdown",
   "metadata": {},
   "source": [
    "## 4.\n",
    "\n",
    "Frobeniuos norm of Kruskal Tensor\n",
    "\n",
    "$||Y||^F_2 = \\textbf{1}^{T} (\\{A^{T} A\\} \\circ \\{B^{T} B\\} \\circ  \\{C^{T} C\\} ) \\textbf{1}$\n",
    "\n",
    "where $\\circ$ - Hadamard product "
   ]
  },
  {
   "cell_type": "markdown",
   "metadata": {},
   "source": [
    "## 5.\n",
    "\n",
    "$||X - Y||^F_2  = ||Y||^F_2 + ||X||^F_2 - 2 <Y, X> =$\n",
    "$ = \\textbf{1}^{T} (A^T A \\cdot B^T B \\cdot C^T C) \\textbf{1} + \\textbf{1}^{T} (U^T U \\cdot V^T V \\cdot W^T W) \\textbf{1} + \\textbf{1}^{T} (U^T A \\cdot V^T B \\cdot W^T C) \\textbf{1}$"
   ]
  },
  {
   "cell_type": "markdown",
   "metadata": {},
   "source": [
    "## 6.\n",
    "\n",
    "ALS step update rule for Kruskal tensor\n",
    "\n",
    "$Y_{1} = U\\cdot(W⊙V)^T$\n",
    "\n",
    "$Y_{1}^T = (W⊙V)\\cdot U^{T}$\n",
    "\n",
    "$(W⊙V)^{+}\\cdot Y_{(1)}^{T} = U^{T}$\n",
    "\n",
    "$Y_{(1)}\\cdot((W⊙V)^{+})^{T} = U$\n",
    "\n",
    "$Y_{(1)}\\cdot((W^{T}W \\circ V^{T}V)(W⊙V)^{T})^{T} = U$\n",
    "\n",
    "$Y_{(1)}\\cdot((W⊙V)^{T})^{T} = U$\n",
    "\n",
    "$U = Y_{(1)}\\cdot (W⊙V)$"
   ]
  },
  {
   "cell_type": "markdown",
   "metadata": {},
   "source": [
    "## 7.\n",
    "\n",
    "\n",
    "$T_{(3)}$ (three-term matricization of $T$) $= C*(B⊙A)^{T}$\n",
    "\n",
    "$T_{(3)} = (B⊙A)\\cdot C^{T}$\n",
    "\n",
    "$(B⊙A)^{+} \\cdot T_{(3)}^{T} = C^{T}$\n",
    "\n",
    "$C = T_{(3)} \\cdot ((B⊙A)^{T})^{+}$\n",
    "\n",
    "Computed in __task7.m__"
   ]
  },
  {
   "cell_type": "markdown",
   "metadata": {},
   "source": [
    "## 8\n",
    "\n",
    "In some case yes, but:\n",
    "1) we need to use another matricization term\n",
    "2) there are some constraint\n",
    "\n",
    "If factor matrix A is given:\n",
    "\n",
    "$T_{(1)} = A(C⊙B)^{T}$\n",
    "\n",
    "$A^{T}T_{(1)} = A^{T} A \\cdot (C⊙B)^{T}$\n",
    "\n",
    "If matrix A is not singular (__this is constraint__) => $A^{T} A = I$\n",
    "\n",
    "So:\n",
    "$A^{T} T_{(1)}$ = $(C⊙B)^{T}$\n",
    "\n",
    "The left part is given, the second part is a cronecker product:\n",
    "\n",
    "$(C⊙B)^{T} = [c_1⊗b_1, ..., c_r⊗b_r]$\n",
    "\n",
    "If matrix in a left part is a Kronecker product of two vectors (see n2.) it means find two other factor matrices is possible.\n"
   ]
  },
  {
   "cell_type": "code",
   "execution_count": null,
   "metadata": {},
   "outputs": [],
   "source": [
    "Generate tensor with rank 6"
   ]
  }
 ],
 "metadata": {
  "kernelspec": {
   "display_name": "Python 3",
   "language": "python",
   "name": "python3"
  },
  "language_info": {
   "codemirror_mode": {
    "name": "ipython",
    "version": 3
   },
   "file_extension": ".py",
   "mimetype": "text/x-python",
   "name": "python",
   "nbconvert_exporter": "python",
   "pygments_lexer": "ipython3",
   "version": "3.7.4"
  }
 },
 "nbformat": 4,
 "nbformat_minor": 4
}
