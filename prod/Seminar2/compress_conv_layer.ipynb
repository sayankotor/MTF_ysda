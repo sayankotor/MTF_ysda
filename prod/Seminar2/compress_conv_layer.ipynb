{
 "cells": [
  {
   "cell_type": "markdown",
   "metadata": {},
   "source": [
    "# Compress convolutional layers\n",
    "We test VGG classifier.\n",
    "First init some basic environment."
   ]
  },
  {
   "cell_type": "code",
   "execution_count": 2,
   "metadata": {},
   "outputs": [
    {
     "name": "stdout",
     "output_type": "stream",
     "text": [
      "/notebook/Matrix_tensor_shad/prod/Seminar2\n"
     ]
    }
   ],
   "source": [
    "!pwd"
   ]
  },
  {
   "cell_type": "code",
   "execution_count": 3,
   "metadata": {},
   "outputs": [],
   "source": [
    "import matplotlib.pyplot as plt\n",
    "\n",
    "%matplotlib inline\n",
    "plt.rcParams['figure.figsize'] = (10.0, 8.0) # set default size of plots\n",
    "plt.rcParams['image.interpolation'] = 'nearest'\n",
    "plt.rcParams['image.cmap'] = 'gray'\n",
    "\n",
    "%load_ext autoreload\n",
    "%autoreload 2"
   ]
  },
  {
   "cell_type": "markdown",
   "metadata": {},
   "source": [
    "# VGG16 classifier"
   ]
  },
  {
   "cell_type": "code",
   "execution_count": 4,
   "metadata": {},
   "outputs": [],
   "source": [
    "import sys\n",
    "import torch\n",
    "import torch.nn.functional as F\n",
    "import matplotlib.pyplot as plt\n",
    "from tqdm import tqdm\n",
    "import torchnet as tnt\n",
    "from torchnet.engine import Engine\n",
    "from torchnet.logger import VisdomLogger, VisdomPlotLogger\n",
    "from data_loader import CIFAR10Data\n",
    "\n",
    "\n",
    "def count_parameters(model):\n",
    "    return sum(p.numel() for p in model.parameters() if p.requires_grad)\n",
    "\n",
    "\n",
    "def plot_history(history):\n",
    "    \"\"\"\n",
    "    plot loss and acc history.\n",
    "    :param history: train returned history object\n",
    "    \"\"\"\n",
    "    plt.plot(history['train_loss'])\n",
    "    plt.plot(history['val_loss'])\n",
    "    plt.xlabel('epoch')\n",
    "    plt.ylabel('Loss value')\n",
    "    plt.legend(['train', 'test'], loc='upper left')\n",
    "    plt.show()\n",
    "\n",
    "    plt.plot(history['train_acc'])\n",
    "    plt.plot(history['val_acc'])\n",
    "    plt.xlabel('epoch')\n",
    "    plt.ylabel('acc value')\n",
    "    plt.legend(['train', 'test'], loc='upper left')\n",
    "    plt.show()\n",
    "\n",
    "    plt.plot(history['train_lr'])\n",
    "    plt.xlabel('epoch')\n",
    "    plt.ylabel('Train LR')\n",
    "    plt.show()\n",
    "\n",
    "\n",
    "def train_loop(model, opt, epoch, loss_fn=F.cross_entropy, lr_scheduler=None):\n",
    "    \"\"\"\n",
    "    train model and test on test data\n",
    "    :return:\n",
    "    \"\"\"\n",
    "    num_classes = 10\n",
    "\n",
    "    data = CIFAR10Data(train_split=0.8)\n",
    "    train_itr = data.get_train_loader(batch_size=64)\n",
    "    val_itr = data.get_val_loader(batch_size=64)\n",
    "\n",
    "    meter_loss = tnt.meter.AverageValueMeter()\n",
    "    classacc = tnt.meter.ClassErrorMeter(accuracy=True)\n",
    "    confusion_meter = tnt.meter.ConfusionMeter(num_classes, normalized=True)\n",
    "    history = {'train_loss': [], 'train_acc': [], 'train_lr': [], 'val_loss': [], 'val_acc': []}\n",
    "\n",
    "    port = 8097\n",
    "    env = 'CIFAR10'\n",
    "    \n",
    "    torch.manual_seed(6666)\n",
    "    torch.cuda.manual_seed(6666)\n",
    "    if torch.cuda.is_available():\n",
    "        device = torch.device('cuda:0')\n",
    "    else:\n",
    "        device = torch.device('cpu')\n",
    "    model.to(device)\n",
    "\n",
    "    def reset_meters():\n",
    "        classacc.reset()\n",
    "        meter_loss.reset()\n",
    "\n",
    "    def h(sample):\n",
    "        x = sample[0].to(device)\n",
    "        y = sample[1].to(device)\n",
    "        o = model(x)\n",
    "        return loss_fn(o, y), o\n",
    "\n",
    "    def on_forward(state):\n",
    "        classacc.add(state['output'].detach(), state['sample'][1])\n",
    "        meter_loss.add(state['loss'].item())\n",
    "        confusion_meter.add(state['output'].detach(), state['sample'][1])\n",
    "        if state['train']:\n",
    "            state['iterator'].set_postfix_str(s=\"loss:{:.4f}, acc:{:.4f}%\".format(meter_loss.value()[0], classacc.value()[0]))\n",
    "\n",
    "    def on_start_epoch(state):\n",
    "        current_lr = opt.param_groups[0]['lr']\n",
    "        print('Epoch: %d/%d, lr:%.2e' % (state['epoch']+1, state['maxepoch'], current_lr))\n",
    "        reset_meters()\n",
    "        model.train(True)\n",
    "        state['iterator'] = tqdm(state['iterator'], file=sys.stdout)\n",
    "        history['train_lr'].append(current_lr)\n",
    "\n",
    "    def on_end_epoch(state):\n",
    "        # print('Training loss: %.4f, accuracy: %.2f%%' % (meter_loss.value()[0], classerr.value()[0]))\n",
    "        history['train_loss'].append(meter_loss.value()[0])\n",
    "        history['train_acc'].append(classacc.value()[0])\n",
    "\n",
    "        # do validation at the end of each epoch\n",
    "        reset_meters()\n",
    "        model.train(False)\n",
    "        engine.test(h, val_itr)\n",
    "        print('Val loss: %.4f, accuracy: %.2f%%' % (meter_loss.value()[0], classacc.value()[0]))\n",
    "\n",
    "        if lr_scheduler:\n",
    "            if isinstance(lr_scheduler, torch.optim.lr_scheduler.ReduceLROnPlateau):\n",
    "                lr_scheduler.step(classacc.value()[0], epoch=(epoch+1))\n",
    "            else:\n",
    "                lr_scheduler.step()\n",
    "\n",
    "        history['val_loss'].append(meter_loss.value()[0])\n",
    "        history['val_acc'].append(classacc.value()[0])\n",
    "\n",
    "    engine = Engine()\n",
    "    engine.hooks['on_forward'] = on_forward\n",
    "    engine.hooks['on_start_epoch'] = on_start_epoch\n",
    "    engine.hooks['on_end_epoch'] = on_end_epoch\n",
    "    engine.train(h, train_itr, epoch, opt)\n",
    "\n",
    "    # test\n",
    "    test_itr = data.get_test_loader(batch_size=64)\n",
    "    model.train(False)\n",
    "    engine.test(h, test_itr)\n",
    "    print('Test loss: %.4f, accuracy: %.2f%%' % (meter_loss.value()[0], classacc.value()[0]))\n",
    "    return history"
   ]
  },
  {
   "cell_type": "code",
   "execution_count": 5,
   "metadata": {
    "scrolled": true
   },
   "outputs": [
    {
     "name": "stdout",
     "output_type": "stream",
     "text": [
      "_VGG(\n",
      "  (layers): Sequential(\n",
      "    (0): Conv2d(3, 64, kernel_size=(3, 3), stride=(1, 1), padding=(1, 1))\n",
      "    (1): BatchNorm2d(64, eps=1e-05, momentum=0.1, affine=True, track_running_stats=True)\n",
      "    (2): ReLU(inplace=True)\n",
      "    (3): MaxPool2d(kernel_size=2, stride=2, padding=0, dilation=1, ceil_mode=False)\n",
      "    (4): Conv2d(64, 128, kernel_size=(3, 3), stride=(1, 1), padding=(1, 1))\n",
      "    (5): BatchNorm2d(128, eps=1e-05, momentum=0.1, affine=True, track_running_stats=True)\n",
      "    (6): ReLU(inplace=True)\n",
      "    (7): MaxPool2d(kernel_size=2, stride=2, padding=0, dilation=1, ceil_mode=False)\n",
      "    (8): Conv2d(128, 256, kernel_size=(3, 3), stride=(1, 1), padding=(1, 1))\n",
      "    (9): BatchNorm2d(256, eps=1e-05, momentum=0.1, affine=True, track_running_stats=True)\n",
      "    (10): ReLU(inplace=True)\n",
      "    (11): Conv2d(256, 256, kernel_size=(3, 3), stride=(1, 1), padding=(1, 1))\n",
      "    (12): BatchNorm2d(256, eps=1e-05, momentum=0.1, affine=True, track_running_stats=True)\n",
      "    (13): ReLU(inplace=True)\n",
      "    (14): MaxPool2d(kernel_size=2, stride=2, padding=0, dilation=1, ceil_mode=False)\n",
      "    (15): Conv2d(256, 512, kernel_size=(3, 3), stride=(1, 1), padding=(1, 1))\n",
      "    (16): BatchNorm2d(512, eps=1e-05, momentum=0.1, affine=True, track_running_stats=True)\n",
      "    (17): ReLU(inplace=True)\n",
      "    (18): Conv2d(512, 512, kernel_size=(3, 3), stride=(1, 1), padding=(1, 1))\n",
      "    (19): BatchNorm2d(512, eps=1e-05, momentum=0.1, affine=True, track_running_stats=True)\n",
      "    (20): ReLU(inplace=True)\n",
      "    (21): MaxPool2d(kernel_size=2, stride=2, padding=0, dilation=1, ceil_mode=False)\n",
      "    (22): Conv2d(512, 512, kernel_size=(3, 3), stride=(1, 1), padding=(1, 1))\n",
      "    (23): BatchNorm2d(512, eps=1e-05, momentum=0.1, affine=True, track_running_stats=True)\n",
      "    (24): ReLU(inplace=True)\n",
      "    (25): Conv2d(512, 512, kernel_size=(3, 3), stride=(1, 1), padding=(1, 1))\n",
      "    (26): BatchNorm2d(512, eps=1e-05, momentum=0.1, affine=True, track_running_stats=True)\n",
      "    (27): ReLU(inplace=True)\n",
      "    (28): MaxPool2d(kernel_size=2, stride=2, padding=0, dilation=1, ceil_mode=False)\n",
      "  )\n",
      "  (fc1): Linear(in_features=512, out_features=10, bias=True)\n",
      ")\n"
     ]
    }
   ],
   "source": [
    "import torch.optim as optim\n",
    "import torch.nn as nn\n",
    "from cifar10.tnt_solver import *\n",
    "from cifar10.classifiers.vgg import VGG11\n",
    "\n",
    "model = VGG11()\n",
    "print(model);"
   ]
  },
  {
   "cell_type": "markdown",
   "metadata": {},
   "source": [
    "# pre-train VGG"
   ]
  },
  {
   "cell_type": "code",
   "execution_count": 9,
   "metadata": {},
   "outputs": [
    {
     "name": "stderr",
     "output_type": "stream",
     "text": [
      "UsageError: Cell magic `%%hide` not found.\n"
     ]
    }
   ],
   "source": [
    "%%time\n",
    "%%hide output\n",
    "import time\n",
    "opt = optim.SGD(model.parameters(), lr=1e-1, momentum=0.9, weight_decay=5e-4, nesterov=True)\n",
    "loss_fn = F.cross_entropy\n",
    "lr_scheduler = optim.lr_scheduler.ReduceLROnPlateau(opt, 'min', factor=0.5)\n",
    "\n",
    "\n",
    "\n",
    "# lr_scheduler = None\n",
    "#start = timeit.timeit()\n",
    "s = time.time()\n",
    "\n",
    "history = train_loop(model, opt, epoch=20, loss_fn=loss_fn, lr_scheduler=lr_scheduler)\n",
    "curr_time = (time.time()-s )*1000\n",
    "#end = timeit.timeit()\n",
    "print (curr_time)\n",
    ";"
   ]
  },
  {
   "cell_type": "code",
   "execution_count": 25,
   "metadata": {},
   "outputs": [],
   "source": [
    "torch.save(model, 'pretrain_model_11')"
   ]
  },
  {
   "cell_type": "markdown",
   "metadata": {},
   "source": [
    "# plot loss history\n",
    "We check the classifier by plotting the loss and acc."
   ]
  },
  {
   "cell_type": "code",
   "execution_count": 26,
   "metadata": {},
   "outputs": [
    {
     "data": {
      "image/png": "[encoded data removed]",
      "text/plain": [
       "<Figure size 432x288 with 1 Axes>"
      ]
     },
     "metadata": {
      "needs_background": "light"
     },
     "output_type": "display_data"
    },
    {
     "data": {
      "image/png": "[encoded data removed]",
      "text/plain": [
       "<Figure size 432x288 with 1 Axes>"
      ]
     },
     "metadata": {
      "needs_background": "light"
     },
     "output_type": "display_data"
    },
    {
     "data": {
      "image/png": "[encoded data removed]",
      "text/plain": [
       "<Figure size 432x288 with 1 Axes>"
      ]
     },
     "metadata": {
      "needs_background": "light"
     },
     "output_type": "display_data"
    }
   ],
   "source": [
    "plot_history(history)"
   ]
  },
  {
   "cell_type": "markdown",
   "metadata": {},
   "source": [
    "# Define compression"
   ]
  },
  {
   "cell_type": "code",
   "execution_count": 100,
   "metadata": {},
   "outputs": [],
   "source": [
    "import tensorly\n",
    "import numpy as np\n",
    "from tensorly.decomposition import tucker, partial_tucker, parafac\n",
    "\n",
    "def cp_decomposition_conv_layer(layer, rank):\n",
    "    \"\"\" Gets a conv layer and a target rank, \n",
    "        returns a nn.Sequential object with the decomposition \"\"\"\n",
    "\n",
    "    # Perform CP decomposition on the layer weight tensorly.\n",
    "    \n",
    "    print(\"Data shape\", layer.weight.data.shape, \" Estimated rank\", rank)\n",
    "    \n",
    "    weight, factors = parafac(layer.weight.data, rank=rank, init='svd')\n",
    "    print (len(factors))\n",
    "    last, first, vertical, horizontal = factors\n",
    "        #parafac(layer.weight.data, rank=rank, init='svd')\n",
    "\n",
    "    pointwise_s_to_r_layer = torch.nn.Conv2d(in_channels=first.shape[0], \\\n",
    "            out_channels=first.shape[1], kernel_size=1, stride=1, padding=0, \n",
    "            dilation=layer.dilation, bias=False)\n",
    "\n",
    "    depthwise_vertical_layer = torch.nn.Conv2d(in_channels=vertical.shape[1], \n",
    "            out_channels=vertical.shape[1], kernel_size=(vertical.shape[0], 1),\n",
    "            stride=1, padding=(layer.padding[0], 0), dilation=layer.dilation,\n",
    "            groups=vertical.shape[1], bias=False)\n",
    "\n",
    "    depthwise_horizontal_layer = \\\n",
    "        torch.nn.Conv2d(in_channels=horizontal.shape[1], \\\n",
    "            out_channels=horizontal.shape[1], \n",
    "            kernel_size=(1, horizontal.shape[0]), stride=layer.stride,\n",
    "            padding=(0, layer.padding[0]), \n",
    "            dilation=layer.dilation, groups=horizontal.shape[1], bias=False)\n",
    "\n",
    "    pointwise_r_to_t_layer = torch.nn.Conv2d(in_channels=last.shape[1], \\\n",
    "            out_channels=last.shape[0], kernel_size=1, stride=1,\n",
    "            padding=0, dilation=layer.dilation, bias=True)\n",
    "\n",
    "    pointwise_r_to_t_layer.bias.data = layer.bias.data\n",
    "\n",
    "    depthwise_horizontal_layer.weight.data = \\\n",
    "        torch.transpose(horizontal, 1, 0).unsqueeze(1).unsqueeze(1)\n",
    "    depthwise_vertical_layer.weight.data = \\\n",
    "        torch.transpose(vertical, 1, 0).unsqueeze(1).unsqueeze(-1)\n",
    "    pointwise_s_to_r_layer.weight.data = \\\n",
    "        torch.transpose(first, 1, 0).unsqueeze(-1).unsqueeze(-1)\n",
    "    pointwise_r_to_t_layer.weight.data = last.unsqueeze(-1).unsqueeze(-1)\n",
    "\n",
    "    new_layers = [pointwise_s_to_r_layer, depthwise_vertical_layer, \\\n",
    "                    depthwise_horizontal_layer, pointwise_r_to_t_layer]\n",
    "    \n",
    "    return nn.Sequential(*new_layers)"
   ]
  },
  {
   "cell_type": "code",
   "execution_count": 33,
   "metadata": {},
   "outputs": [],
   "source": [
    "def tucker_decomposition_conv_layer(layer, ranks):\n",
    "    \"\"\" Gets a conv layer, \n",
    "        returns a nn.Sequential object with the Tucker decomposition.\n",
    "        The ranks are estimated with a Python implementation of VBMF\n",
    "        https://github.com/CasvandenBogaard/VBMF\n",
    "    \"\"\"\n",
    "\n",
    "    \n",
    "    print(layer, \"VBMF Estimated ranks\", ranks)\n",
    "    print (layer.weight.data.shape)\n",
    "    core, [last, first] = \\\n",
    "        partial_tucker(layer.weight.data, \\\n",
    "            modes=[0,1], ranks=ranks, init='svd')\n",
    "    \n",
    "    print (\"first\", first.shape[0], first.shape[1])\n",
    "    print (\"second\", last.shape)\n",
    "    print (\"third\", core.shape)\n",
    "\n",
    "    # A pointwise convolution that reduces the channels from S to R3\n",
    "    first_layer = torch.nn.Conv2d(in_channels=first.shape[0], \\\n",
    "            out_channels=first.shape[1], kernel_size=1,\n",
    "            stride=1, padding=0, dilation=layer.dilation, bias=False)\n",
    "    print (\"first_layer.weight.data.shape\", first_layer.weight.data.shape)\n",
    "\n",
    "    # A regular 2D convolution layer with R3 input channels \n",
    "    # and R3 output channels\n",
    "    core_layer = torch.nn.Conv2d(in_channels=core.shape[1], \\\n",
    "            out_channels=core.shape[0], kernel_size=layer.kernel_size,\n",
    "            stride=layer.stride, padding=layer.padding, dilation=layer.dilation,\n",
    "            bias=False)\n",
    "    print (\"core_layer.weight.data.shape\", core_layer.weight.data.shape)\n",
    "\n",
    "    # A pointwise convolution that increases the channels from R4 to T\n",
    "    last_layer = torch.nn.Conv2d(in_channels=last.shape[1], \\\n",
    "        out_channels=last.shape[0], kernel_size=1, stride=1,\n",
    "        padding=0, dilation=layer.dilation, bias=True)\n",
    "    print (\"last_layer.weight.data.shape\" ,last_layer.weight.data.shape)\n",
    "\n",
    "    last_layer.bias.data = layer.bias.data\n",
    "\n",
    "    first_layer.weight.data = \\\n",
    "        torch.transpose(first, 1, 0).unsqueeze(-1).unsqueeze(-1)\n",
    "    last_layer.weight.data = last.unsqueeze(-1).unsqueeze(-1)\n",
    "    core_layer.weight.data = core\n",
    "    \n",
    "    print (\"first_layer.weight.data.shape\", first_layer.weight.data.shape)\n",
    "\n",
    "    new_layers = [first_layer, core_layer, last_layer]\n",
    "    return nn.Sequential(*new_layers)\n"
   ]
  },
  {
   "cell_type": "code",
   "execution_count": 34,
   "metadata": {},
   "outputs": [
    {
     "name": "stdout",
     "output_type": "stream",
     "text": [
      "torch.Size([16, 128, 1, 1])\n",
      "torch.Size([128, 16, 1, 1])\n"
     ]
    }
   ],
   "source": [
    "x = torch.randn(16, 128, 1, 1)\n",
    "print (x.shape)\n",
    "\n",
    "x = torch.transpose(x, 0, 1)\n",
    "print (x.shape)"
   ]
  },
  {
   "cell_type": "code",
   "execution_count": 67,
   "metadata": {},
   "outputs": [],
   "source": [
    "model = torch.load('pretrain_model_11')"
   ]
  },
  {
   "cell_type": "code",
   "execution_count": 68,
   "metadata": {},
   "outputs": [
    {
     "name": "stdout",
     "output_type": "stream",
     "text": [
      "_VGG(\n",
      "  (layers): Sequential(\n",
      "    (0): Conv2d(3, 64, kernel_size=(3, 3), stride=(1, 1), padding=(1, 1))\n",
      "    (1): BatchNorm2d(64, eps=1e-05, momentum=0.1, affine=True, track_running_stats=True)\n",
      "    (2): ReLU(inplace=True)\n",
      "    (3): MaxPool2d(kernel_size=2, stride=2, padding=0, dilation=1, ceil_mode=False)\n",
      "    (4): Conv2d(64, 128, kernel_size=(3, 3), stride=(1, 1), padding=(1, 1))\n",
      "    (5): BatchNorm2d(128, eps=1e-05, momentum=0.1, affine=True, track_running_stats=True)\n",
      "    (6): ReLU(inplace=True)\n",
      "    (7): MaxPool2d(kernel_size=2, stride=2, padding=0, dilation=1, ceil_mode=False)\n",
      "    (8): Conv2d(128, 256, kernel_size=(3, 3), stride=(1, 1), padding=(1, 1))\n",
      "    (9): BatchNorm2d(256, eps=1e-05, momentum=0.1, affine=True, track_running_stats=True)\n",
      "    (10): ReLU(inplace=True)\n",
      "    (11): Conv2d(256, 256, kernel_size=(3, 3), stride=(1, 1), padding=(1, 1))\n",
      "    (12): BatchNorm2d(256, eps=1e-05, momentum=0.1, affine=True, track_running_stats=True)\n",
      "    (13): ReLU(inplace=True)\n",
      "    (14): MaxPool2d(kernel_size=2, stride=2, padding=0, dilation=1, ceil_mode=False)\n",
      "    (15): Conv2d(256, 512, kernel_size=(3, 3), stride=(1, 1), padding=(1, 1))\n",
      "    (16): BatchNorm2d(512, eps=1e-05, momentum=0.1, affine=True, track_running_stats=True)\n",
      "    (17): ReLU(inplace=True)\n",
      "    (18): Conv2d(512, 512, kernel_size=(3, 3), stride=(1, 1), padding=(1, 1))\n",
      "    (19): BatchNorm2d(512, eps=1e-05, momentum=0.1, affine=True, track_running_stats=True)\n",
      "    (20): ReLU(inplace=True)\n",
      "    (21): MaxPool2d(kernel_size=2, stride=2, padding=0, dilation=1, ceil_mode=False)\n",
      "    (22): Conv2d(512, 512, kernel_size=(3, 3), stride=(1, 1), padding=(1, 1))\n",
      "    (23): BatchNorm2d(512, eps=1e-05, momentum=0.1, affine=True, track_running_stats=True)\n",
      "    (24): ReLU(inplace=True)\n",
      "    (25): Conv2d(512, 512, kernel_size=(3, 3), stride=(1, 1), padding=(1, 1))\n",
      "    (26): BatchNorm2d(512, eps=1e-05, momentum=0.1, affine=True, track_running_stats=True)\n",
      "    (27): ReLU(inplace=True)\n",
      "    (28): MaxPool2d(kernel_size=2, stride=2, padding=0, dilation=1, ceil_mode=False)\n",
      "  )\n",
      "  (fc1): Linear(in_features=512, out_features=10, bias=True)\n",
      ")\n"
     ]
    }
   ],
   "source": [
    "print (model)"
   ]
  },
  {
   "cell_type": "markdown",
   "metadata": {},
   "source": [
    "# Apply Tucker compression to first 4 convolution layers"
   ]
  },
  {
   "cell_type": "code",
   "execution_count": 75,
   "metadata": {},
   "outputs": [
    {
     "name": "stdout",
     "output_type": "stream",
     "text": [
      "0\n",
      "Conv2d(3, 64, kernel_size=(3, 3), stride=(1, 1), padding=(1, 1)) VBMF Estimated ranks [16, 10]\n",
      "torch.Size([64, 3, 3, 3])\n",
      "first 3 3\n",
      "second torch.Size([64, 16])\n",
      "third torch.Size([16, 3, 3, 3])\n",
      "first_layer.weight.data.shape torch.Size([3, 3, 1, 1])\n",
      "core_layer.weight.data.shape torch.Size([16, 3, 3, 3])\n",
      "last_layer.weight.data.shape torch.Size([64, 16, 1, 1])\n",
      "first_layer.weight.data.shape torch.Size([3, 3, 1, 1])\n",
      "1\n",
      "2\n",
      "3\n",
      "4\n",
      "Conv2d(64, 128, kernel_size=(3, 3), stride=(1, 1), padding=(1, 1)) VBMF Estimated ranks [32, 16]\n",
      "torch.Size([128, 64, 3, 3])\n",
      "first 64 16\n",
      "second torch.Size([128, 32])\n",
      "third torch.Size([32, 16, 3, 3])\n",
      "first_layer.weight.data.shape torch.Size([16, 64, 1, 1])\n",
      "core_layer.weight.data.shape torch.Size([32, 16, 3, 3])\n",
      "last_layer.weight.data.shape torch.Size([128, 32, 1, 1])\n",
      "first_layer.weight.data.shape torch.Size([16, 64, 1, 1])\n",
      "5\n",
      "6\n",
      "7\n",
      "8\n",
      "Conv2d(128, 256, kernel_size=(3, 3), stride=(1, 1), padding=(1, 1)) VBMF Estimated ranks [64, 32]\n",
      "torch.Size([256, 128, 3, 3])\n",
      "first 128 32\n",
      "second torch.Size([256, 64])\n",
      "third torch.Size([64, 32, 3, 3])\n",
      "first_layer.weight.data.shape torch.Size([32, 128, 1, 1])\n",
      "core_layer.weight.data.shape torch.Size([64, 32, 3, 3])\n",
      "last_layer.weight.data.shape torch.Size([256, 64, 1, 1])\n",
      "first_layer.weight.data.shape torch.Size([32, 128, 1, 1])\n",
      "9\n",
      "10\n",
      "11\n",
      "continue\n",
      "12\n",
      "continue\n",
      "13\n",
      "continue\n",
      "14\n",
      "continue\n",
      "15\n",
      "continue\n",
      "16\n",
      "continue\n",
      "17\n",
      "continue\n",
      "18\n",
      "continue\n",
      "19\n",
      "continue\n",
      "20\n",
      "continue\n",
      "21\n",
      "continue\n",
      "22\n",
      "continue\n",
      "23\n",
      "continue\n",
      "24\n",
      "continue\n",
      "25\n",
      "continue\n",
      "26\n",
      "continue\n",
      "27\n",
      "continue\n",
      "28\n",
      "continue\n"
     ]
    }
   ],
   "source": [
    "import tensorly as tl\n",
    "tl.set_backend('pytorch')\n",
    "\n",
    "cp = True\n",
    "N = len(model.layers._modules.keys())\n",
    "for i, key in enumerate(model.layers._modules.keys()):\n",
    "    print(i)\n",
    "    if ( i > 10 ):\n",
    "        print (\"continue\")\n",
    "        continue\n",
    "    if i >= N - 2:\n",
    "        break\n",
    "    if isinstance(model.layers._modules[key], torch.nn.modules.conv.Conv2d):\n",
    "        conv_layer = model.layers._modules[key]\n",
    "        ranks = [max(conv_layer.weight.data.cpu().numpy().shape[0]//4, 10), max(conv_layer.weight.data.cpu().numpy().shape[1]//4, 10)]\n",
    "        if not cp:\n",
    "            rank = max(conv_layer.weight.data.cpu().numpy().shape)//4\n",
    "            decomposed = cp_decomposition_conv_layer(conv_layer, rank)\n",
    "        else:\n",
    "            decomposed = tucker_decomposition_conv_layer(conv_layer, ranks = ranks)\n",
    "\n",
    "        model.layers._modules[key] = decomposed"
   ]
  },
  {
   "cell_type": "code",
   "execution_count": 70,
   "metadata": {},
   "outputs": [],
   "source": [
    "torch.save(model, 'decompose_model_11')"
   ]
  },
  {
   "cell_type": "markdown",
   "metadata": {},
   "source": [
    "# Compare regular model and model with decomposed convolutional layers"
   ]
  },
  {
   "cell_type": "code",
   "execution_count": 76,
   "metadata": {},
   "outputs": [
    {
     "name": "stdout",
     "output_type": "stream",
     "text": [
      "Files already downloaded and verified\n",
      "Files already downloaded and verified\n",
      "Files already downloaded and verified\n",
      "Epoch: 1/10, lr:1.00e-02\n",
      "100%|██████████| 625/625 [00:09<00:00, 69.03it/s, loss:0.3263, acc:88.7925%]\n",
      "Val loss: 0.4762, accuracy: 84.37%\n",
      "Epoch: 2/10, lr:1.00e-02\n",
      "100%|██████████| 625/625 [00:09<00:00, 67.38it/s, loss:0.2898, acc:89.8800%]\n",
      "Val loss: 0.5383, accuracy: 83.39%\n",
      "Epoch: 3/10, lr:1.00e-02\n",
      "100%|██████████| 625/625 [00:09<00:00, 66.22it/s, loss:0.2716, acc:90.5475%]\n",
      "Val loss: 0.4514, accuracy: 85.29%\n",
      "Epoch: 4/10, lr:1.00e-02\n",
      "100%|██████████| 625/625 [00:08<00:00, 69.78it/s, loss:0.2633, acc:90.8300%]\n",
      "Val loss: 0.5124, accuracy: 83.45%\n",
      "Epoch: 5/10, lr:1.00e-02\n",
      "100%|██████████| 625/625 [00:09<00:00, 66.63it/s, loss:0.2472, acc:91.4425%]\n",
      "Val loss: 0.4306, accuracy: 86.04%\n",
      "Epoch: 6/10, lr:1.00e-02\n",
      "100%|██████████| 625/625 [00:09<00:00, 69.34it/s, loss:0.2422, acc:91.4550%]\n",
      "Val loss: 0.4145, accuracy: 86.63%\n",
      "Epoch: 7/10, lr:1.00e-02\n",
      "100%|██████████| 625/625 [00:09<00:00, 68.72it/s, loss:0.2409, acc:91.4725%]\n",
      "Val loss: 0.4189, accuracy: 86.56%\n",
      "Epoch: 8/10, lr:1.00e-02\n",
      "100%|██████████| 625/625 [00:08<00:00, 72.68it/s, loss:0.2290, acc:92.0550%]\n",
      "Val loss: 0.4524, accuracy: 85.75%\n",
      "Epoch: 9/10, lr:1.00e-02\n",
      "100%|██████████| 625/625 [00:09<00:00, 68.06it/s, loss:0.2236, acc:92.0950%]\n",
      "Val loss: 0.4358, accuracy: 85.94%\n",
      "Epoch: 10/10, lr:1.00e-02\n",
      "100%|██████████| 625/625 [00:09<00:00, 67.08it/s, loss:0.2243, acc:92.2925%]\n",
      "Val loss: 0.4924, accuracy: 84.72%\n",
      "Test loss: 0.5034, accuracy: 84.34%\n",
      "105929.77499961853\n"
     ]
    },
    {
     "data": {
      "text/plain": [
       "''"
      ]
     },
     "execution_count": 76,
     "metadata": {},
     "output_type": "execute_result"
    }
   ],
   "source": [
    "s = time.time()\n",
    "opt = optim.SGD(model.parameters(), lr=1e-2, momentum=0.9, weight_decay=5e-4, nesterov=True)\n",
    "history = train_loop(model, opt, epoch=10, loss_fn=loss_fn, lr_scheduler=lr_scheduler)\n",
    "curr_time = (time.time() - s )*1000\n",
    "#end = timeit.timeit()\n",
    "print (curr_time)\n",
    ";"
   ]
  },
  {
   "cell_type": "code",
   "execution_count": 77,
   "metadata": {},
   "outputs": [
    {
     "name": "stdout",
     "output_type": "stream",
     "text": [
      "_VGG(\n",
      "  (layers): Sequential(\n",
      "    (0): Sequential(\n",
      "      (0): Conv2d(3, 3, kernel_size=(1, 1), stride=(1, 1), bias=False)\n",
      "      (1): Conv2d(3, 16, kernel_size=(3, 3), stride=(1, 1), padding=(1, 1), bias=False)\n",
      "      (2): Conv2d(16, 64, kernel_size=(1, 1), stride=(1, 1))\n",
      "    )\n",
      "    (1): BatchNorm2d(64, eps=1e-05, momentum=0.1, affine=True, track_running_stats=True)\n",
      "    (2): ReLU(inplace=True)\n",
      "    (3): MaxPool2d(kernel_size=2, stride=2, padding=0, dilation=1, ceil_mode=False)\n",
      "    (4): Sequential(\n",
      "      (0): Conv2d(64, 16, kernel_size=(1, 1), stride=(1, 1), bias=False)\n",
      "      (1): Conv2d(16, 32, kernel_size=(3, 3), stride=(1, 1), padding=(1, 1), bias=False)\n",
      "      (2): Conv2d(32, 128, kernel_size=(1, 1), stride=(1, 1))\n",
      "    )\n",
      "    (5): BatchNorm2d(128, eps=1e-05, momentum=0.1, affine=True, track_running_stats=True)\n",
      "    (6): ReLU(inplace=True)\n",
      "    (7): MaxPool2d(kernel_size=2, stride=2, padding=0, dilation=1, ceil_mode=False)\n",
      "    (8): Sequential(\n",
      "      (0): Conv2d(128, 32, kernel_size=(1, 1), stride=(1, 1), bias=False)\n",
      "      (1): Conv2d(32, 64, kernel_size=(3, 3), stride=(1, 1), padding=(1, 1), bias=False)\n",
      "      (2): Conv2d(64, 256, kernel_size=(1, 1), stride=(1, 1))\n",
      "    )\n",
      "    (9): BatchNorm2d(256, eps=1e-05, momentum=0.1, affine=True, track_running_stats=True)\n",
      "    (10): ReLU(inplace=True)\n",
      "    (11): Conv2d(256, 256, kernel_size=(3, 3), stride=(1, 1), padding=(1, 1))\n",
      "    (12): BatchNorm2d(256, eps=1e-05, momentum=0.1, affine=True, track_running_stats=True)\n",
      "    (13): ReLU(inplace=True)\n",
      "    (14): MaxPool2d(kernel_size=2, stride=2, padding=0, dilation=1, ceil_mode=False)\n",
      "    (15): Conv2d(256, 512, kernel_size=(3, 3), stride=(1, 1), padding=(1, 1))\n",
      "    (16): BatchNorm2d(512, eps=1e-05, momentum=0.1, affine=True, track_running_stats=True)\n",
      "    (17): ReLU(inplace=True)\n",
      "    (18): Conv2d(512, 512, kernel_size=(3, 3), stride=(1, 1), padding=(1, 1))\n",
      "    (19): BatchNorm2d(512, eps=1e-05, momentum=0.1, affine=True, track_running_stats=True)\n",
      "    (20): ReLU(inplace=True)\n",
      "    (21): MaxPool2d(kernel_size=2, stride=2, padding=0, dilation=1, ceil_mode=False)\n",
      "    (22): Conv2d(512, 512, kernel_size=(3, 3), stride=(1, 1), padding=(1, 1))\n",
      "    (23): BatchNorm2d(512, eps=1e-05, momentum=0.1, affine=True, track_running_stats=True)\n",
      "    (24): ReLU(inplace=True)\n",
      "    (25): Conv2d(512, 512, kernel_size=(3, 3), stride=(1, 1), padding=(1, 1))\n",
      "    (26): BatchNorm2d(512, eps=1e-05, momentum=0.1, affine=True, track_running_stats=True)\n",
      "    (27): ReLU(inplace=True)\n",
      "    (28): MaxPool2d(kernel_size=2, stride=2, padding=0, dilation=1, ceil_mode=False)\n",
      "  )\n",
      "  (fc1): Linear(in_features=512, out_features=10, bias=True)\n",
      ")\n"
     ]
    }
   ],
   "source": [
    "print(model);"
   ]
  },
  {
   "cell_type": "code",
   "execution_count": 78,
   "metadata": {},
   "outputs": [],
   "source": [
    "model = torch.load('pretrain_model_11')"
   ]
  },
  {
   "cell_type": "code",
   "execution_count": 79,
   "metadata": {},
   "outputs": [
    {
     "name": "stdout",
     "output_type": "stream",
     "text": [
      "Files already downloaded and verified\n",
      "Files already downloaded and verified\n",
      "Files already downloaded and verified\n",
      "Epoch: 1/10, lr:1.00e-02\n",
      "100%|██████████| 625/625 [00:09<00:00, 65.34it/s, loss:0.3338, acc:88.5750%]\n",
      "Val loss: 0.3772, accuracy: 87.17%\n",
      "Epoch: 2/10, lr:1.00e-02\n",
      "100%|██████████| 625/625 [00:09<00:00, 67.93it/s, loss:0.2863, acc:90.2875%]\n",
      "Val loss: 0.3528, accuracy: 88.05%\n",
      "Epoch: 3/10, lr:1.00e-02\n",
      "100%|██████████| 625/625 [00:09<00:00, 67.45it/s, loss:0.2613, acc:90.9575%]\n",
      "Val loss: 0.3661, accuracy: 87.63%\n",
      "Epoch: 4/10, lr:1.00e-02\n",
      "100%|██████████| 625/625 [00:09<00:00, 67.88it/s, loss:0.2497, acc:91.4850%]\n",
      "Val loss: 0.3724, accuracy: 87.31%\n",
      "Epoch: 5/10, lr:1.00e-02\n",
      "100%|██████████| 625/625 [00:09<00:00, 67.52it/s, loss:0.2390, acc:91.7325%]\n",
      "Val loss: 0.3678, accuracy: 87.54%\n",
      "Epoch: 6/10, lr:1.00e-02\n",
      "100%|██████████| 625/625 [00:09<00:00, 68.25it/s, loss:0.2261, acc:92.0425%]\n",
      "Val loss: 0.3743, accuracy: 87.61%\n",
      "Epoch: 7/10, lr:1.00e-02\n",
      "100%|██████████| 625/625 [00:09<00:00, 66.62it/s, loss:0.2191, acc:92.3525%]\n",
      "Val loss: 0.3944, accuracy: 87.08%\n",
      "Epoch: 8/10, lr:1.00e-02\n",
      "100%|██████████| 625/625 [00:09<00:00, 66.72it/s, loss:0.2129, acc:92.6575%]\n",
      "Val loss: 0.3767, accuracy: 88.01%\n",
      "Epoch: 9/10, lr:1.00e-02\n",
      "100%|██████████| 625/625 [00:09<00:00, 66.87it/s, loss:0.2052, acc:92.8475%]\n",
      "Val loss: 0.4294, accuracy: 86.37%\n",
      "Epoch: 10/10, lr:1.00e-02\n",
      "100%|██████████| 625/625 [00:09<00:00, 66.24it/s, loss:0.2089, acc:92.7325%]\n",
      "Val loss: 0.3803, accuracy: 87.55%\n",
      "Test loss: 0.3909, accuracy: 87.23%\n",
      "107839.24007415771\n"
     ]
    },
    {
     "data": {
      "text/plain": [
       "''"
      ]
     },
     "execution_count": 79,
     "metadata": {},
     "output_type": "execute_result"
    }
   ],
   "source": [
    "s = time.time()\n",
    "opt = optim.SGD(model.parameters(), lr=1e-2, momentum=0.9, weight_decay=5e-4, nesterov=True)\n",
    "\n",
    "history = train_loop(model, opt, epoch=10, loss_fn=loss_fn, lr_scheduler=lr_scheduler)\n",
    "curr_time = (time.time() - s )*1000\n",
    "#end = timeit.timeit()\n",
    "print (curr_time)\n",
    ";"
   ]
  },
  {
   "cell_type": "code",
   "execution_count": 80,
   "metadata": {},
   "outputs": [
    {
     "name": "stdout",
     "output_type": "stream",
     "text": [
      "_VGG(\n",
      "  (layers): Sequential(\n",
      "    (0): Conv2d(3, 64, kernel_size=(3, 3), stride=(1, 1), padding=(1, 1))\n",
      "    (1): BatchNorm2d(64, eps=1e-05, momentum=0.1, affine=True, track_running_stats=True)\n",
      "    (2): ReLU(inplace=True)\n",
      "    (3): MaxPool2d(kernel_size=2, stride=2, padding=0, dilation=1, ceil_mode=False)\n",
      "    (4): Conv2d(64, 128, kernel_size=(3, 3), stride=(1, 1), padding=(1, 1))\n",
      "    (5): BatchNorm2d(128, eps=1e-05, momentum=0.1, affine=True, track_running_stats=True)\n",
      "    (6): ReLU(inplace=True)\n",
      "    (7): MaxPool2d(kernel_size=2, stride=2, padding=0, dilation=1, ceil_mode=False)\n",
      "    (8): Conv2d(128, 256, kernel_size=(3, 3), stride=(1, 1), padding=(1, 1))\n",
      "    (9): BatchNorm2d(256, eps=1e-05, momentum=0.1, affine=True, track_running_stats=True)\n",
      "    (10): ReLU(inplace=True)\n",
      "    (11): Conv2d(256, 256, kernel_size=(3, 3), stride=(1, 1), padding=(1, 1))\n",
      "    (12): BatchNorm2d(256, eps=1e-05, momentum=0.1, affine=True, track_running_stats=True)\n",
      "    (13): ReLU(inplace=True)\n",
      "    (14): MaxPool2d(kernel_size=2, stride=2, padding=0, dilation=1, ceil_mode=False)\n",
      "    (15): Conv2d(256, 512, kernel_size=(3, 3), stride=(1, 1), padding=(1, 1))\n",
      "    (16): BatchNorm2d(512, eps=1e-05, momentum=0.1, affine=True, track_running_stats=True)\n",
      "    (17): ReLU(inplace=True)\n",
      "    (18): Conv2d(512, 512, kernel_size=(3, 3), stride=(1, 1), padding=(1, 1))\n",
      "    (19): BatchNorm2d(512, eps=1e-05, momentum=0.1, affine=True, track_running_stats=True)\n",
      "    (20): ReLU(inplace=True)\n",
      "    (21): MaxPool2d(kernel_size=2, stride=2, padding=0, dilation=1, ceil_mode=False)\n",
      "    (22): Conv2d(512, 512, kernel_size=(3, 3), stride=(1, 1), padding=(1, 1))\n",
      "    (23): BatchNorm2d(512, eps=1e-05, momentum=0.1, affine=True, track_running_stats=True)\n",
      "    (24): ReLU(inplace=True)\n",
      "    (25): Conv2d(512, 512, kernel_size=(3, 3), stride=(1, 1), padding=(1, 1))\n",
      "    (26): BatchNorm2d(512, eps=1e-05, momentum=0.1, affine=True, track_running_stats=True)\n",
      "    (27): ReLU(inplace=True)\n",
      "    (28): MaxPool2d(kernel_size=2, stride=2, padding=0, dilation=1, ceil_mode=False)\n",
      "  )\n",
      "  (fc1): Linear(in_features=512, out_features=10, bias=True)\n",
      ")\n"
     ]
    }
   ],
   "source": [
    "print(model);"
   ]
  },
  {
   "cell_type": "markdown",
   "metadata": {},
   "source": [
    "# The same for CP decomposition."
   ]
  },
  {
   "cell_type": "code",
   "execution_count": 102,
   "metadata": {},
   "outputs": [],
   "source": [
    "model = torch.load('pretrain_model_11')"
   ]
  },
  {
   "cell_type": "code",
   "execution_count": 103,
   "metadata": {},
   "outputs": [
    {
     "name": "stdout",
     "output_type": "stream",
     "text": [
      "0\n",
      "continue\n",
      "1\n",
      "continue\n",
      "2\n",
      "continue\n",
      "3\n",
      "continue\n",
      "4\n",
      "Data shape torch.Size([128, 64, 3, 3])  Estimated rank 32\n",
      "4\n",
      "5\n",
      "6\n",
      "7\n",
      "8\n",
      "Data shape torch.Size([256, 128, 3, 3])  Estimated rank 64\n",
      "4\n",
      "9\n",
      "10\n",
      "11\n",
      "Data shape torch.Size([256, 256, 3, 3])  Estimated rank 64\n",
      "4\n",
      "12\n",
      "13\n",
      "14\n",
      "15\n",
      "continue\n",
      "16\n",
      "continue\n",
      "17\n",
      "continue\n",
      "18\n",
      "continue\n",
      "19\n",
      "continue\n",
      "20\n",
      "continue\n",
      "21\n",
      "continue\n",
      "22\n",
      "continue\n",
      "23\n",
      "continue\n",
      "24\n",
      "continue\n",
      "25\n",
      "continue\n",
      "26\n",
      "continue\n",
      "27\n",
      "continue\n",
      "28\n",
      "continue\n"
     ]
    }
   ],
   "source": [
    "import tensorly as tl\n",
    "tl.set_backend('pytorch')\n",
    "\n",
    "cp = False\n",
    "N = len(model.layers._modules.keys())\n",
    "for i, key in enumerate(model.layers._modules.keys()):\n",
    "    print(i)\n",
    "    if ( i > 14 or i < 4):\n",
    "        print (\"continue\")\n",
    "        continue\n",
    "    if i >= N - 2:\n",
    "        break\n",
    "    if isinstance(model.layers._modules[key], torch.nn.modules.conv.Conv2d):\n",
    "        conv_layer = model.layers._modules[key]\n",
    "        ranks = [max(conv_layer.weight.data.cpu().numpy().shape[0]//4, 10), max(conv_layer.weight.data.cpu().numpy().shape[1]//4, 10)]\n",
    "        if not cp:\n",
    "            rank = max(conv_layer.weight.data.cpu().numpy().shape[0]//4, conv_layer.weight.data.cpu().numpy().shape[1]//4)\n",
    "            decomposed = cp_decomposition_conv_layer(conv_layer, rank)\n",
    "        else:\n",
    "            decomposed = tucker_decomposition_conv_layer(conv_layer, ranks = ranks)\n",
    "\n",
    "        model.layers._modules[key] = decomposed"
   ]
  },
  {
   "cell_type": "code",
   "execution_count": 104,
   "metadata": {},
   "outputs": [],
   "source": [
    "torch.save(model, 'decompose_model_cp')"
   ]
  },
  {
   "cell_type": "code",
   "execution_count": 105,
   "metadata": {},
   "outputs": [
    {
     "name": "stdout",
     "output_type": "stream",
     "text": [
      "_VGG(\n",
      "  (layers): Sequential(\n",
      "    (0): Conv2d(3, 64, kernel_size=(3, 3), stride=(1, 1), padding=(1, 1))\n",
      "    (1): BatchNorm2d(64, eps=1e-05, momentum=0.1, affine=True, track_running_stats=True)\n",
      "    (2): ReLU(inplace=True)\n",
      "    (3): MaxPool2d(kernel_size=2, stride=2, padding=0, dilation=1, ceil_mode=False)\n",
      "    (4): Sequential(\n",
      "      (0): Conv2d(64, 32, kernel_size=(1, 1), stride=(1, 1), bias=False)\n",
      "      (1): Conv2d(32, 32, kernel_size=(3, 1), stride=(1, 1), padding=(1, 0), groups=32, bias=False)\n",
      "      (2): Conv2d(32, 32, kernel_size=(1, 3), stride=(1, 1), padding=(0, 1), groups=32, bias=False)\n",
      "      (3): Conv2d(32, 128, kernel_size=(1, 1), stride=(1, 1))\n",
      "    )\n",
      "    (5): BatchNorm2d(128, eps=1e-05, momentum=0.1, affine=True, track_running_stats=True)\n",
      "    (6): ReLU(inplace=True)\n",
      "    (7): MaxPool2d(kernel_size=2, stride=2, padding=0, dilation=1, ceil_mode=False)\n",
      "    (8): Sequential(\n",
      "      (0): Conv2d(128, 64, kernel_size=(1, 1), stride=(1, 1), bias=False)\n",
      "      (1): Conv2d(64, 64, kernel_size=(3, 1), stride=(1, 1), padding=(1, 0), groups=64, bias=False)\n",
      "      (2): Conv2d(64, 64, kernel_size=(1, 3), stride=(1, 1), padding=(0, 1), groups=64, bias=False)\n",
      "      (3): Conv2d(64, 256, kernel_size=(1, 1), stride=(1, 1))\n",
      "    )\n",
      "    (9): BatchNorm2d(256, eps=1e-05, momentum=0.1, affine=True, track_running_stats=True)\n",
      "    (10): ReLU(inplace=True)\n",
      "    (11): Sequential(\n",
      "      (0): Conv2d(256, 64, kernel_size=(1, 1), stride=(1, 1), bias=False)\n",
      "      (1): Conv2d(64, 64, kernel_size=(3, 1), stride=(1, 1), padding=(1, 0), groups=64, bias=False)\n",
      "      (2): Conv2d(64, 64, kernel_size=(1, 3), stride=(1, 1), padding=(0, 1), groups=64, bias=False)\n",
      "      (3): Conv2d(64, 256, kernel_size=(1, 1), stride=(1, 1))\n",
      "    )\n",
      "    (12): BatchNorm2d(256, eps=1e-05, momentum=0.1, affine=True, track_running_stats=True)\n",
      "    (13): ReLU(inplace=True)\n",
      "    (14): MaxPool2d(kernel_size=2, stride=2, padding=0, dilation=1, ceil_mode=False)\n",
      "    (15): Conv2d(256, 512, kernel_size=(3, 3), stride=(1, 1), padding=(1, 1))\n",
      "    (16): BatchNorm2d(512, eps=1e-05, momentum=0.1, affine=True, track_running_stats=True)\n",
      "    (17): ReLU(inplace=True)\n",
      "    (18): Conv2d(512, 512, kernel_size=(3, 3), stride=(1, 1), padding=(1, 1))\n",
      "    (19): BatchNorm2d(512, eps=1e-05, momentum=0.1, affine=True, track_running_stats=True)\n",
      "    (20): ReLU(inplace=True)\n",
      "    (21): MaxPool2d(kernel_size=2, stride=2, padding=0, dilation=1, ceil_mode=False)\n",
      "    (22): Conv2d(512, 512, kernel_size=(3, 3), stride=(1, 1), padding=(1, 1))\n",
      "    (23): BatchNorm2d(512, eps=1e-05, momentum=0.1, affine=True, track_running_stats=True)\n",
      "    (24): ReLU(inplace=True)\n",
      "    (25): Conv2d(512, 512, kernel_size=(3, 3), stride=(1, 1), padding=(1, 1))\n",
      "    (26): BatchNorm2d(512, eps=1e-05, momentum=0.1, affine=True, track_running_stats=True)\n",
      "    (27): ReLU(inplace=True)\n",
      "    (28): MaxPool2d(kernel_size=2, stride=2, padding=0, dilation=1, ceil_mode=False)\n",
      "  )\n",
      "  (fc1): Linear(in_features=512, out_features=10, bias=True)\n",
      ")\n"
     ]
    }
   ],
   "source": [
    "print (model)"
   ]
  },
  {
   "cell_type": "code",
   "execution_count": 106,
   "metadata": {},
   "outputs": [
    {
     "name": "stdout",
     "output_type": "stream",
     "text": [
      "Files already downloaded and verified\n",
      "Files already downloaded and verified\n",
      "Files already downloaded and verified\n",
      "Epoch: 1/10, lr:1.00e-02\n",
      "100%|██████████| 625/625 [00:10<00:00, 60.36it/s, loss:0.7993, acc:72.6425%]\n",
      "Val loss: 0.7503, accuracy: 74.47%\n",
      "Epoch: 2/10, lr:1.00e-02\n",
      "100%|██████████| 625/625 [00:10<00:00, 61.52it/s, loss:0.5687, acc:80.4350%]\n",
      "Val loss: 0.5577, accuracy: 80.81%\n",
      "Epoch: 3/10, lr:1.00e-02\n",
      "100%|██████████| 625/625 [00:10<00:00, 61.92it/s, loss:0.5073, acc:82.4150%]\n",
      "Val loss: 0.5553, accuracy: 80.95%\n",
      "Epoch: 4/10, lr:1.00e-02\n",
      "100%|██████████| 625/625 [00:10<00:00, 58.22it/s, loss:0.4745, acc:83.4975%]\n",
      "Val loss: 0.5557, accuracy: 81.10%\n",
      "Epoch: 5/10, lr:1.00e-02\n",
      "100%|██████████| 625/625 [00:10<00:00, 61.53it/s, loss:0.4426, acc:84.7875%]\n",
      "Val loss: 0.5773, accuracy: 80.29%\n",
      "Epoch: 6/10, lr:1.00e-02\n",
      "100%|██████████| 625/625 [00:10<00:00, 61.64it/s, loss:0.4217, acc:85.5600%]\n",
      "Val loss: 0.4952, accuracy: 83.38%\n",
      "Epoch: 7/10, lr:1.00e-02\n",
      "100%|██████████| 625/625 [00:09<00:00, 65.41it/s, loss:0.4103, acc:85.5550%]\n",
      "Val loss: 0.4727, accuracy: 83.77%\n",
      "Epoch: 8/10, lr:1.00e-02\n",
      "100%|██████████| 625/625 [00:09<00:00, 66.13it/s, loss:0.3897, acc:86.5150%]\n",
      "Val loss: 0.5041, accuracy: 83.09%\n",
      "Epoch: 9/10, lr:1.00e-02\n",
      "100%|██████████| 625/625 [00:09<00:00, 62.57it/s, loss:0.3758, acc:86.9775%]\n",
      "Val loss: 0.4621, accuracy: 84.34%\n",
      "Epoch: 10/10, lr:1.00e-02\n",
      "100%|██████████| 625/625 [00:09<00:00, 62.50it/s, loss:0.3712, acc:87.2200%]\n",
      "Val loss: 0.4640, accuracy: 84.31%\n",
      "Test loss: 0.4749, accuracy: 83.77%\n",
      "115344.89917755127\n"
     ]
    },
    {
     "data": {
      "text/plain": [
       "''"
      ]
     },
     "execution_count": 106,
     "metadata": {},
     "output_type": "execute_result"
    }
   ],
   "source": [
    "s = time.time()\n",
    "opt = optim.SGD(model.parameters(), lr=1e-2, momentum=0.9, weight_decay=5e-4, nesterov=True)\n",
    "history = train_loop(model, opt, epoch=10, loss_fn=loss_fn, lr_scheduler=lr_scheduler)\n",
    "curr_time = (time.time() - s )*1000\n",
    "#end = timeit.timeit()\n",
    "print (curr_time)\n",
    ";"
   ]
  },
  {
   "cell_type": "code",
   "execution_count": 107,
   "metadata": {},
   "outputs": [],
   "source": [
    "model = torch.load('pretrain_model_11')"
   ]
  },
  {
   "cell_type": "code",
   "execution_count": 108,
   "metadata": {},
   "outputs": [
    {
     "name": "stdout",
     "output_type": "stream",
     "text": [
      "Files already downloaded and verified\n",
      "Files already downloaded and verified\n",
      "Files already downloaded and verified\n",
      "Epoch: 1/10, lr:1.00e-02\n",
      "100%|██████████| 625/625 [00:09<00:00, 63.48it/s, loss:0.3338, acc:88.5750%]\n",
      "Val loss: 0.3772, accuracy: 87.17%\n",
      "Epoch: 2/10, lr:1.00e-02\n",
      "100%|██████████| 625/625 [00:09<00:00, 65.88it/s, loss:0.2863, acc:90.2875%]\n",
      "Val loss: 0.3528, accuracy: 88.05%\n",
      "Epoch: 3/10, lr:1.00e-02\n",
      "100%|██████████| 625/625 [00:09<00:00, 66.55it/s, loss:0.2613, acc:90.9575%]\n",
      "Val loss: 0.3661, accuracy: 87.63%\n",
      "Epoch: 4/10, lr:1.00e-02\n",
      "100%|██████████| 625/625 [00:09<00:00, 66.03it/s, loss:0.2497, acc:91.4850%]\n",
      "Val loss: 0.3724, accuracy: 87.31%\n",
      "Epoch: 5/10, lr:1.00e-02\n",
      "100%|██████████| 625/625 [00:09<00:00, 67.33it/s, loss:0.2390, acc:91.7325%]\n",
      "Val loss: 0.3678, accuracy: 87.54%\n",
      "Epoch: 6/10, lr:1.00e-02\n",
      "100%|██████████| 625/625 [00:09<00:00, 65.71it/s, loss:0.2261, acc:92.0425%]\n",
      "Val loss: 0.3743, accuracy: 87.61%\n",
      "Epoch: 7/10, lr:1.00e-02\n",
      "100%|██████████| 625/625 [00:09<00:00, 68.85it/s, loss:0.2191, acc:92.3525%]\n",
      "Val loss: 0.3944, accuracy: 87.08%\n",
      "Epoch: 8/10, lr:1.00e-02\n",
      "100%|██████████| 625/625 [00:09<00:00, 67.90it/s, loss:0.2129, acc:92.6575%]\n",
      "Val loss: 0.3767, accuracy: 88.01%\n",
      "Epoch: 9/10, lr:1.00e-02\n",
      "100%|██████████| 625/625 [00:09<00:00, 67.05it/s, loss:0.2052, acc:92.8475%]\n",
      "Val loss: 0.4294, accuracy: 86.37%\n",
      "Epoch: 10/10, lr:1.00e-02\n",
      "100%|██████████| 625/625 [00:09<00:00, 66.88it/s, loss:0.2089, acc:92.7325%]\n",
      "Val loss: 0.3803, accuracy: 87.55%\n",
      "Test loss: 0.3909, accuracy: 87.23%\n",
      "108311.28478050232\n"
     ]
    },
    {
     "data": {
      "text/plain": [
       "''"
      ]
     },
     "execution_count": 108,
     "metadata": {},
     "output_type": "execute_result"
    }
   ],
   "source": [
    "s = time.time()\n",
    "opt = optim.SGD(model.parameters(), lr=1e-2, momentum=0.9, weight_decay=5e-4, nesterov=True)\n",
    "history = train_loop(model, opt, epoch=10, loss_fn=loss_fn, lr_scheduler=lr_scheduler)\n",
    "curr_time = (time.time() - s )*1000\n",
    "#end = timeit.timeit()\n",
    "print (curr_time)\n",
    ";"
   ]
  },
  {
   "cell_type": "code",
   "execution_count": null,
   "metadata": {},
   "outputs": [],
   "source": []
  }
 ],
 "metadata": {
  "kernelspec": {
   "display_name": "Python 3",
   "language": "python",
   "name": "python3"
  },
  "language_info": {
   "codemirror_mode": {
    "name": "ipython",
    "version": 3
   },
   "file_extension": ".py",
   "mimetype": "text/x-python",
   "name": "python",
   "nbconvert_exporter": "python",
   "pygments_lexer": "ipython3",
   "version": "3.7.4"
  }
 },
 "nbformat": 4,
 "nbformat_minor": 4
}
