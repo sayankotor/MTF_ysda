{
 "cells": [
  {
   "cell_type": "markdown",
   "metadata": {},
   "source": [
    "## Theory"
   ]
  },
  {
   "cell_type": "markdown",
   "metadata": {},
   "source": [
    "**0.** In the lecture we count Frobenious norm for Kruskal tensor $||\\hat{Y}||$\n",
    "\n",
    "Write up norm for the difference of two Kruskal tensors $||\\hat{Y} - \\hat{Y}||^2$ in the similar way, if $\\hat{Y} = [|U V W|]$, $\\hat{X} = [|A B C|]$\n",
    "\n",
    "**Solution**\n",
    " \n",
    "$||\\hat{Y} - \\hat{X}||^2 = ||\\hat{Y}||^2 + ||\\hat{X}||^2  - 2<\\hat{Y}, \\hat{X}>$\n",
    "\n",
    "$||\\hat{Y}||^2 = \\hat{1}^T((\\hat{U^T} \\hat{U} \\ast \\hat{V^T} \\hat{V} \\ast \\hat{W^T} \\hat{W}))\\hat{1}$ \n",
    "\n",
    "$||\\hat{X}||^2 = \\hat{1}^T((\\hat{A^T} \\hat{A} \\ast \\hat{B^T} \\hat{B} \\ast \\hat{C^T} \\hat{C}))\\hat{1}$ \n",
    "\n",
    "$2<\\hat{Y}, \\hat{X}> =  \\hat{1}^T((\\hat{A^T} \\hat{U} \\ast \\hat{B^T} \\hat{V} \\ast \\hat{C^T} \\hat{W}))\\hat{1}$"
   ]
  },
  {
   "cell_type": "markdown",
   "metadata": {},
   "source": [
    "**1.**\n",
    "Given a Kruskal tensor $\\hat{X} = [|U^{(0)};U^{(1)};U^{(2)}|]$ where the factor matrices $U^{(0)}$, $U^{(1)}$ and $U^{(2)}$. Write update rules of the ALS algorithm which finds a low-rank approximation using unfolding of initial tensor $\\hat{X}$ to corrsponding mode and factor matrices, whithout using pseudo-inverse matrix."
   ]
  },
  {
   "cell_type": "markdown",
   "metadata": {},
   "source": [
    "**Solution**\n",
    "\n",
    "1. In the lecture slides using LLS we take:\n",
    "$U(0) = \\hat{X_{[0]}}[ (U^{(1)} \\odot U^{(2)})^T]^{\\dagger}$\n",
    "2. use property of Khartri-rao: $U(0) = \\hat{X_{[0]}} (U^{(1)} \\odot U^{(2)}) [(U^{(1)^T}(U^{(1)}) * (U^{(2)^T}(U^{(2)})] $\n",
    "\n",
    "equations for another factors is the similar "
   ]
  },
  {
   "cell_type": "markdown",
   "metadata": {},
   "source": [
    "# Practice: ALS algorithm\n",
    "\n",
    "Using formula from **1.** write up an als algoritm. Create some tensor and decompose it using obtained functionality"
   ]
  },
  {
   "cell_type": "code",
   "execution_count": 31,
   "metadata": {},
   "outputs": [],
   "source": [
    "def unfold(tensor, mode):\n",
    "    \n",
    "    return np.reshape(np.moveaxis(tensor, mode, 0),\n",
    "                      (tensor.shape[mode], -1))\n",
    "\n",
    "\n",
    "def fold(unfolded_tensor, mode, shape):\n",
    "    \n",
    "    full_shape = list(shape)\n",
    "    mode_dim = full_shape.pop(mode)\n",
    "    full_shape.insert(0, mode_dim)\n",
    "    return np.moveaxis(np.reshape(\n",
    "          unfolded_tensor, full_shape), 0, mode)"
   ]
  },
  {
   "cell_type": "code",
   "execution_count": 32,
   "metadata": {},
   "outputs": [],
   "source": [
    "def khatri_rao(matrix1, matrix2):\n",
    "    n_columns = matrix1.shape[1]\n",
    "    result = np.einsum('ik,jk->ijk', matrix1, matrix2)\n",
    "    return result.reshape((-1, n_columns))"
   ]
  },
  {
   "cell_type": "code",
   "execution_count": 33,
   "metadata": {},
   "outputs": [],
   "source": [
    "def factors_to_tensor(A, B, C):\n",
    "    full_shape = (A.shape[0], B.shape[0], C.shape[0])\n",
    "    unfolded_tensor = A.dot(khatri_rao(B, C).T)\n",
    "    return fold(unfolded_tensor, 0, full_shape)"
   ]
  },
  {
   "cell_type": "code",
   "execution_count": 38,
   "metadata": {},
   "outputs": [],
   "source": [
    "def als(tensor, rank, n_iter_max=200, tol=10e-10):\n",
    "    \n",
    "    A = np.random.random_sample((tensor.shape[0], rank))\n",
    "    B = np.random.random_sample((tensor.shape[1], rank))\n",
    "    C = np.random.random_sample((tensor.shape[2], rank))\n",
    "\n",
    "    norm_tensor = l2_norm(tensor)\n",
    "    error = None\n",
    "\n",
    "    for iteration in range(n_iter_max):\n",
    "        # A\n",
    "        prod = B.T.dot(B)*C.T.dot(C) # TODO\n",
    "        factor = unfold(tensor, 0).dot(khatri_rao(B, C))\n",
    "        A = np.linalg.solve(prod.T, factor.T).T\n",
    "\n",
    "        # B\n",
    "        prod = A.T.dot(A)*C.T.dot(C)\n",
    "        factor = unfold(tensor, 1).dot(khatri_rao(A, C))\n",
    "        B = np.linalg.solve(prod.T, factor.T).T\n",
    "        \n",
    "        # C\n",
    "        prod = A.T.dot(A)*B.T.dot(B)\n",
    "        factor = unfold(tensor, 2).dot(khatri_rao(A, B))\n",
    "        C = np.linalg.solve(prod.T, factor.T).T\n",
    "        \n",
    "        prev_error = error\n",
    "        rec = factors_to_tensor(A, B, C)\n",
    "        error = l2_norm(tensor - rec) / norm_tensor\n",
    "\n",
    "        if iteration > 1:\n",
    "            if tol and abs(prev_error - error) < tol:\n",
    "                print('converged in {} iterations.'.format(\n",
    "                      iteration))\n",
    "                break\n",
    "\n",
    "    return A, B, C\n"
   ]
  },
  {
   "cell_type": "markdown",
   "metadata": {},
   "source": [
    "Please generate random tensor. Decompose and reconstruct it with you als method"
   ]
  },
  {
   "cell_type": "code",
   "execution_count": null,
   "metadata": {},
   "outputs": [],
   "source": []
  }
 ],
 "metadata": {
  "kernelspec": {
   "display_name": "Python 3",
   "language": "python",
   "name": "python3"
  },
  "language_info": {
   "codemirror_mode": {
    "name": "ipython",
    "version": 3
   },
   "file_extension": ".py",
   "mimetype": "text/x-python",
   "name": "python",
   "nbconvert_exporter": "python",
   "pygments_lexer": "ipython3",
   "version": "3.7.4"
  }
 },
 "nbformat": 4,
 "nbformat_minor": 4
}
