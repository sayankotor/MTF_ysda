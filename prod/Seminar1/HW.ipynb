{
 "cells": [
  {
   "cell_type": "markdown",
   "metadata": {},
   "source": [
    "## Theory"
   ]
  },
  {
   "cell_type": "markdown",
   "metadata": {},
   "source": [
    "**0.** \n",
    "\n",
    "In the lecture we count Frobenious norm for Kruskal tensor $||\\hat{Y}|| = [|U V W|] $\n",
    "\n",
    "Write up Frobenious norm for the difference of two Kruskal tensors $||\\hat{Y} - \\hat{Y}||^2$ in the similar way, if $\\hat{Y} = [|U V W|]$, $\\hat{X} = [|A B C|]$\n",
    "\n",
    "**Solution**\n",
    "\n",
    "You solution"
   ]
  },
  {
   "cell_type": "markdown",
   "metadata": {},
   "source": [
    "**1.**\n",
    "\n",
    "Given a tensor $\\hat{X} = [|U^{(0)};U^{(1)};U^{(2)}|]$ where the factor matrices $U^{(0)}$, $U^{(1)}$ and $U^{(2)}$. Write update rules of the ALS algorithm which finds a low-rank approximation using unfolding of initial tensor $\\hat{X}$ to corrsponding mode and factor matrices, whithout using pseudo-inverse matrix.\n",
    "\n",
    "**Solution**\n",
    "\n",
    "You solution"
   ]
  },
  {
   "cell_type": "markdown",
   "metadata": {},
   "source": [
    "# Practice: ALS algorithm\n",
    "\n",
    "1) Using formula from **task 1.** code an obtained als algoritm. \n",
    "\n",
    "2) Create some tensor and decompose it using obtained functionality"
   ]
  },
  {
   "cell_type": "code",
   "execution_count": 31,
   "metadata": {},
   "outputs": [],
   "source": [
    "def unfold(tensor, mode):\n",
    "    \n",
    "    return np.reshape(np.moveaxis(tensor, mode, 0),\n",
    "                      (tensor.shape[mode], -1))\n",
    "\n",
    "\n",
    "def fold(unfolded_tensor, mode, shape):\n",
    "    \n",
    "    full_shape = list(shape)\n",
    "    mode_dim = full_shape.pop(mode)\n",
    "    full_shape.insert(0, mode_dim)\n",
    "    return np.moveaxis(np.reshape(\n",
    "          unfolded_tensor, full_shape), 0, mode)"
   ]
  },
  {
   "cell_type": "code",
   "execution_count": 32,
   "metadata": {},
   "outputs": [],
   "source": [
    "def khatri_rao(matrix1, matrix2):\n",
    "    n_columns = matrix1.shape[1]\n",
    "    result = np.einsum('ik,jk->ijk', matrix1, matrix2)\n",
    "    return result.reshape((-1, n_columns))"
   ]
  },
  {
   "cell_type": "code",
   "execution_count": 33,
   "metadata": {},
   "outputs": [],
   "source": [
    "def kruskal_to_tensor(A, B, C):\n",
    "    full_shape = (A.shape[0], B.shape[0], C.shape[0])\n",
    "    unfolded_tensor = A.dot(khatri_rao(B, C).T)\n",
    "    return fold(unfolded_tensor, 0, full_shape)"
   ]
  },
  {
   "cell_type": "code",
   "execution_count": 38,
   "metadata": {},
   "outputs": [],
   "source": [
    "def als(tensor, rank, n_iter_max=200, tol=10e-10):\n",
    "    \n",
    "    # tensor - tensor to be decomposed\n",
    "    # rank - rank of approximation\n",
    "    # n_iter_max - maximum number of iteration of algorithm\n",
    "    # tol - error\n",
    "    \n",
    "    A = np.random.random_sample((tensor.shape[0], rank))\n",
    "    B = np.random.random_sample((tensor.shape[1], rank))\n",
    "    C = np.random.random_sample((tensor.shape[2], rank))\n",
    "\n",
    "    norm_tensor = l2_norm(tensor)\n",
    "    error = None\n",
    "\n",
    "    for iteration in range(n_iter_max):\n",
    "        # YOU CODE HERE:\n",
    "        #1. Please, update factor matrix A\n",
    "        #2. Please, update factor matrix B\n",
    "        #3. Please, update factor matrix C\n",
    "        \n",
    "        # please, count reconstruction error\n",
    "\n",
    "    return A, B, C\n"
   ]
  },
  {
   "cell_type": "markdown",
   "metadata": {},
   "source": [
    "Please generate random tensor. Decompose and reconstruct it with you als method"
   ]
  },
  {
   "cell_type": "code",
   "execution_count": null,
   "metadata": {},
   "outputs": [],
   "source": []
  }
 ],
 "metadata": {
  "kernelspec": {
   "display_name": "Python 3",
   "language": "python",
   "name": "python3"
  },
  "language_info": {
   "codemirror_mode": {
    "name": "ipython",
    "version": 3
   },
   "file_extension": ".py",
   "mimetype": "text/x-python",
   "name": "python",
   "nbconvert_exporter": "python",
   "pygments_lexer": "ipython3",
   "version": "3.7.4"
  }
 },
 "nbformat": 4,
 "nbformat_minor": 4
}
