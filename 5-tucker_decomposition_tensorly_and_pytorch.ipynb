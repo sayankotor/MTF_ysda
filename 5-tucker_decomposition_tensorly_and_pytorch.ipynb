{
 "cells": [
  {
   "cell_type": "code",
   "execution_count": 1,
   "metadata": {},
   "outputs": [
    {
     "name": "stderr",
     "output_type": "stream",
     "text": [
      "Using numpy backend.\n"
     ]
    }
   ],
   "source": [
    "import numpy as np\n",
    "\n",
    "# Import PyTorch\n",
    "import torch\n",
    "\n",
    "# Import TensorLy\n",
    "import tensorly as tl\n",
    "from tensorly.tucker_tensor import tucker_to_tensor\n",
    "from tensorly.random import check_random_state"
   ]
  },
  {
   "cell_type": "code",
   "execution_count": 2,
   "metadata": {},
   "outputs": [
    {
     "name": "stderr",
     "output_type": "stream",
     "text": [
      "Using pytorch backend.\n"
     ]
    }
   ],
   "source": [
    "tl.set_backend('pytorch')"
   ]
  },
  {
   "cell_type": "markdown",
   "metadata": {},
   "source": [
    "Make the results reproducible by fixing the random seed"
   ]
  },
  {
   "cell_type": "code",
   "execution_count": 3,
   "metadata": {},
   "outputs": [],
   "source": [
    "random_state = 1234\n",
    "rng = check_random_state(random_state)\n",
    "#device = 'cuda:8'\n",
    "device = 'cpu'"
   ]
  },
  {
   "cell_type": "markdown",
   "metadata": {},
   "source": [
    "Define a random tensor which we will try to decompose. "
   ]
  },
  {
   "cell_type": "code",
   "execution_count": 4,
   "metadata": {},
   "outputs": [],
   "source": [
    "shape = [5, 5, 5]\n",
    "tensor = tl.tensor(rng.random_sample(shape), device=device, requires_grad=True)"
   ]
  },
  {
   "cell_type": "markdown",
   "metadata": {},
   "source": [
    "Initialise a random Tucker decomposition of that tensor\n",
    "\n"
   ]
  },
  {
   "cell_type": "code",
   "execution_count": 5,
   "metadata": {},
   "outputs": [],
   "source": [
    "ranks = [5, 5, 5]\n",
    "core = tl.tensor(rng.random_sample(ranks), device=device, requires_grad=True)\n",
    "factors = [tl.tensor(rng.random_sample((tensor.shape[i], ranks[i])),\n",
    "                 device=device, requires_grad=True) for i in range(tl.ndim(tensor))]\n"
   ]
  },
  {
   "cell_type": "markdown",
   "metadata": {},
   "source": [
    "Now we just iterate through the training loop and backpropagate...\n",
    "\n"
   ]
  },
  {
   "cell_type": "code",
   "execution_count": 6,
   "metadata": {},
   "outputs": [
    {
     "name": "stdout",
     "output_type": "stream",
     "text": [
      "Epoch 1000,. Rec. error: 12.333837509155273\n",
      "Epoch 2000,. Rec. error: 8.580610275268555\n",
      "Epoch 3000,. Rec. error: 5.916234493255615\n",
      "Epoch 4000,. Rec. error: 4.007179260253906\n",
      "Epoch 5000,. Rec. error: 2.6491668224334717\n",
      "Epoch 6000,. Rec. error: 1.7086536884307861\n",
      "Epoch 7000,. Rec. error: 1.0960273742675781\n",
      "Epoch 8000,. Rec. error: 0.7418539524078369\n",
      "Epoch 9000,. Rec. error: 0.5647979378700256\n"
     ]
    }
   ],
   "source": [
    "n_iter = 10000\n",
    "lr = 0.00005\n",
    "penalty = 0.1\n",
    "\n",
    "optimizer = torch.optim.Adam([core]+factors, lr=lr)\n",
    "# [core, factors[0], factors[1], ...]\n",
    "\n",
    "for i in range(1, n_iter):\n",
    "    # Important: do not forget to reset the gradients\n",
    "    optimizer.zero_grad()\n",
    "\n",
    "    # Reconstruct the tensor from the decomposed form\n",
    "    rec = tucker_to_tensor(core, factors)\n",
    "\n",
    "    # squared l2 loss\n",
    "    loss = tl.norm(rec - tensor, 2)\n",
    "\n",
    "    # squared l2 penalty on the factors of the decomposition\n",
    "    for f in factors:\n",
    "        loss = loss + penalty * f.pow(2).sum()\n",
    "\n",
    "    loss.backward()\n",
    "    optimizer.step()\n",
    "\n",
    "    if i % 1000 == 0:\n",
    "        rec_error = tl.norm(rec.data - tensor.data, 2)/tl.norm(tensor.data, 2)\n",
    "        print(\"Epoch {},. Rec. error: {}\".format(i, rec_error))\n"
   ]
  },
  {
   "cell_type": "markdown",
   "metadata": {},
   "source": [
    "# Now a CP decomposition :)"
   ]
  },
  {
   "cell_type": "code",
   "execution_count": 7,
   "metadata": {},
   "outputs": [],
   "source": [
    "# Create random factors\n",
    "factors = [tl.tensor(rng.random_sample((s, 5)),\n",
    "                     device=device,\n",
    "                     requires_grad=True)\\\n",
    "           for s in shape]"
   ]
  },
  {
   "cell_type": "markdown",
   "metadata": {},
   "source": [
    "If you are not familiar with list comprehension, note that this is equivalent to writing:"
   ]
  },
  {
   "cell_type": "code",
   "execution_count": 8,
   "metadata": {},
   "outputs": [],
   "source": [
    "factors = []\n",
    "for s in shape:\n",
    "    factors.append(tl.tensor(rng.random_sample((s, 5)),\n",
    "                     device=device,\n",
    "                     requires_grad=True))"
   ]
  },
  {
   "cell_type": "code",
   "execution_count": 9,
   "metadata": {},
   "outputs": [
    {
     "data": {
      "text/plain": [
       "[torch.Size([5, 5]), torch.Size([5, 5]), torch.Size([5, 5])]"
      ]
     },
     "execution_count": 9,
     "metadata": {},
     "output_type": "execute_result"
    }
   ],
   "source": [
    "[f.shape for f in factors]"
   ]
  },
  {
   "cell_type": "code",
   "execution_count": 10,
   "metadata": {},
   "outputs": [
    {
     "name": "stdout",
     "output_type": "stream",
     "text": [
      "Epoch 1000,. Rec. error: 0.637516438961029\n",
      "Epoch 2000,. Rec. error: 0.5492339134216309\n",
      "Epoch 3000,. Rec. error: 0.4935280978679657\n",
      "Epoch 4000,. Rec. error: 0.45761317014694214\n",
      "Epoch 5000,. Rec. error: 0.4335983991622925\n",
      "Epoch 6000,. Rec. error: 0.41660022735595703\n",
      "Epoch 7000,. Rec. error: 0.4029829502105713\n",
      "Epoch 8000,. Rec. error: 0.39038383960723877\n",
      "Epoch 9000,. Rec. error: 0.3780127465724945\n"
     ]
    }
   ],
   "source": [
    "# Optimise them...\n",
    "n_iter = 10000\n",
    "lr = 0.00005\n",
    "penalty = 0.1\n",
    "\n",
    "optimizer = torch.optim.Adam(factors, lr=lr)\n",
    "\n",
    "for i in range(1, n_iter):\n",
    "    optimizer.zero_grad()\n",
    "\n",
    "    # Reconstruct the tensor from the decomposed form\n",
    "    rec = tl.kruskal_to_tensor(factors)\n",
    "\n",
    "    # squared l2 loss\n",
    "    loss = tl.norm(tensor - rec, 2)\n",
    "\n",
    "    # squared l2 penalty on the factors of the decomposition\n",
    "    for f in factors:\n",
    "        loss = loss + penalty * f.pow(2).sum()\n",
    "\n",
    "    loss.backward()\n",
    "    optimizer.step()\n",
    "\n",
    "    if i % 1000 == 0:\n",
    "        rec_error = tl.norm(rec.data - tensor.data, 2)/tl.norm(tensor.data, 2)\n",
    "        print(\"Epoch {},. Rec. error: {}\".format(i, rec_error))\n"
   ]
  }
 ],
 "metadata": {
  "kernelspec": {
   "display_name": "Python 3",
   "language": "python",
   "name": "python3"
  },
  "language_info": {
   "codemirror_mode": {
    "name": "ipython",
    "version": 3
   },
   "file_extension": ".py",
   "mimetype": "text/x-python",
   "name": "python",
   "nbconvert_exporter": "python",
   "pygments_lexer": "ipython3",
   "version": "3.7.4"
  }
 },
 "nbformat": 4,
 "nbformat_minor": 4
}
